{
  "nbformat": 4,
  "nbformat_minor": 0,
  "metadata": {
    "colab": {
      "name": "analise-infracoes-hsmu.ipynb",
      "provenance": [],
      "collapsed_sections": [],
      "toc_visible": true
    },
    "kernelspec": {
      "name": "python3",
      "display_name": "Python 3"
    },
    "language_info": {
      "name": "python"
    }
  },
  "cells": [
    {
      "cell_type": "code",
      "metadata": {
        "id": "T1D--OqzLmoc"
      },
      "source": [
        "# total de infracoes por tipo de infracao (leve, media, grave, gravissima)\n",
        "# total de infracoes por dia\n",
        "# base possui valores faltantes"
      ],
      "execution_count": 1,
      "outputs": []
    },
    {
      "cell_type": "markdown",
      "metadata": {
        "id": "-DZNISESMRc7"
      },
      "source": [
        "# Carregar arquivo\n",
        "\n"
      ]
    },
    {
      "cell_type": "code",
      "metadata": {
        "colab": {
          "base_uri": "https://localhost:8080/",
          "height": 670
        },
        "id": "QcQ-KZI1MR51",
        "outputId": "884e5113-0db0-48ac-9d6c-e144a7dd520b"
      },
      "source": [
        "# carrega arquivo\n",
        "\n",
        "# import pandas\n",
        "import pandas as pd\n",
        "\n",
        "# read data source\n",
        "# note df from DataFrame\n",
        "df = pd.read_csv('julho.csv', sep=';')\n",
        "\n",
        "# read head\n",
        "# can pass number of lines to read df.head(8)\n",
        "# read first 8 lines\n",
        "df.head()"
      ],
      "execution_count": 2,
      "outputs": [
        {
          "output_type": "stream",
          "text": [
            "/usr/local/lib/python3.7/dist-packages/IPython/core/interactiveshell.py:2718: DtypeWarning: Columns (7) have mixed types.Specify dtype option on import or set low_memory=False.\n",
            "  interactivity=interactivity, compiler=compiler, result=result)\n"
          ],
          "name": "stderr"
        },
        {
          "output_type": "execute_result",
          "data": {
            "text/html": [
              "<div>\n",
              "<style scoped>\n",
              "    .dataframe tbody tr th:only-of-type {\n",
              "        vertical-align: middle;\n",
              "    }\n",
              "\n",
              "    .dataframe tbody tr th {\n",
              "        vertical-align: top;\n",
              "    }\n",
              "\n",
              "    .dataframe thead th {\n",
              "        text-align: right;\n",
              "    }\n",
              "</style>\n",
              "<table border=\"1\" class=\"dataframe\">\n",
              "  <thead>\n",
              "    <tr style=\"text-align: right;\">\n",
              "      <th></th>\n",
              "      <th>tipo_infracao</th>\n",
              "      <th>descricao</th>\n",
              "      <th>tipo_infrator</th>\n",
              "      <th>tipo_veiculo</th>\n",
              "      <th>cometimento</th>\n",
              "      <th>hora_cometimento</th>\n",
              "      <th>auinf_local_rodovia</th>\n",
              "      <th>auinf_local_km</th>\n",
              "      <th>auinf_local_referencia</th>\n",
              "      <th>auinf_local_complemento</th>\n",
              "      <th>auinf_local_latitude</th>\n",
              "      <th>auinf_local_longitude</th>\n",
              "      <th>grav_tipo</th>\n",
              "    </tr>\n",
              "  </thead>\n",
              "  <tbody>\n",
              "    <tr>\n",
              "      <th>0</th>\n",
              "      <td>7455-0</td>\n",
              "      <td>Transitar em velocidade superior à máxima perm...</td>\n",
              "      <td>Condutor</td>\n",
              "      <td>MOTOCICLET</td>\n",
              "      <td>01/07/2020</td>\n",
              "      <td>00:02</td>\n",
              "      <td>DF-003 (EPIA) KM 21,0 SENTIDO SUL             ...</td>\n",
              "      <td>NaN</td>\n",
              "      <td>NaN</td>\n",
              "      <td>NaN</td>\n",
              "      <td>NaN</td>\n",
              "      <td>NaN</td>\n",
              "      <td>Média</td>\n",
              "    </tr>\n",
              "    <tr>\n",
              "      <th>1</th>\n",
              "      <td>7463-0</td>\n",
              "      <td>Transitar em velocidade superior à máxima perm...</td>\n",
              "      <td>Condutor</td>\n",
              "      <td>UTILITARIO</td>\n",
              "      <td>01/07/2020</td>\n",
              "      <td>00:04</td>\n",
              "      <td>DF-075(EPNB) KM 02 SENTIDO SAMAMBAIA          ...</td>\n",
              "      <td>NaN</td>\n",
              "      <td>NaN</td>\n",
              "      <td>NaN</td>\n",
              "      <td>NaN</td>\n",
              "      <td>NaN</td>\n",
              "      <td>Grave</td>\n",
              "    </tr>\n",
              "    <tr>\n",
              "      <th>2</th>\n",
              "      <td>7463-0</td>\n",
              "      <td>Transitar em velocidade superior à máxima perm...</td>\n",
              "      <td>Condutor</td>\n",
              "      <td>CAMINHAO</td>\n",
              "      <td>01/07/2020</td>\n",
              "      <td>00:05</td>\n",
              "      <td>DF-025 (EPDB) KM 04 SENTIDO BALAO DO AEROPORTO...</td>\n",
              "      <td>NaN</td>\n",
              "      <td>NaN</td>\n",
              "      <td>NaN</td>\n",
              "      <td>NaN</td>\n",
              "      <td>NaN</td>\n",
              "      <td>Grave</td>\n",
              "    </tr>\n",
              "    <tr>\n",
              "      <th>3</th>\n",
              "      <td>7455-0</td>\n",
              "      <td>Transitar em velocidade superior à máxima perm...</td>\n",
              "      <td>Condutor</td>\n",
              "      <td>AUTOMOVEL</td>\n",
              "      <td>01/07/2020</td>\n",
              "      <td>00:06</td>\n",
              "      <td>DF-075(EPNB) KM 02 SENTIDO SAMAMBAIA          ...</td>\n",
              "      <td>NaN</td>\n",
              "      <td>NaN</td>\n",
              "      <td>NaN</td>\n",
              "      <td>NaN</td>\n",
              "      <td>NaN</td>\n",
              "      <td>Média</td>\n",
              "    </tr>\n",
              "    <tr>\n",
              "      <th>4</th>\n",
              "      <td>7455-0</td>\n",
              "      <td>Transitar em velocidade superior à máxima perm...</td>\n",
              "      <td>Condutor</td>\n",
              "      <td>UTILITARIO</td>\n",
              "      <td>01/07/2020</td>\n",
              "      <td>00:07</td>\n",
              "      <td>DF-075(EPNB),KM 3,6 SENTIDO DF-003(EPIA)      ...</td>\n",
              "      <td>NaN</td>\n",
              "      <td>NaN</td>\n",
              "      <td>NaN</td>\n",
              "      <td>NaN</td>\n",
              "      <td>NaN</td>\n",
              "      <td>Média</td>\n",
              "    </tr>\n",
              "  </tbody>\n",
              "</table>\n",
              "</div>"
            ],
            "text/plain": [
              "  tipo_infracao  ... grav_tipo\n",
              "0        7455-0  ...     Média\n",
              "1        7463-0  ...     Grave\n",
              "2        7463-0  ...     Grave\n",
              "3        7455-0  ...     Média\n",
              "4        7455-0  ...     Média\n",
              "\n",
              "[5 rows x 13 columns]"
            ]
          },
          "metadata": {
            "tags": []
          },
          "execution_count": 2
        }
      ]
    },
    {
      "cell_type": "code",
      "metadata": {
        "colab": {
          "base_uri": "https://localhost:8080/",
          "height": 271
        },
        "id": "MsG97G0QNJbO",
        "outputId": "e1887426-8df6-4840-9976-568c28310569"
      },
      "source": [
        "# desrcibe data\n",
        "df.describe()"
      ],
      "execution_count": 3,
      "outputs": [
        {
          "output_type": "execute_result",
          "data": {
            "text/html": [
              "<div>\n",
              "<style scoped>\n",
              "    .dataframe tbody tr th:only-of-type {\n",
              "        vertical-align: middle;\n",
              "    }\n",
              "\n",
              "    .dataframe tbody tr th {\n",
              "        vertical-align: top;\n",
              "    }\n",
              "\n",
              "    .dataframe thead th {\n",
              "        text-align: right;\n",
              "    }\n",
              "</style>\n",
              "<table border=\"1\" class=\"dataframe\">\n",
              "  <thead>\n",
              "    <tr style=\"text-align: right;\">\n",
              "      <th></th>\n",
              "      <th>tipo_infracao</th>\n",
              "      <th>descricao</th>\n",
              "      <th>tipo_infrator</th>\n",
              "      <th>tipo_veiculo</th>\n",
              "      <th>cometimento</th>\n",
              "      <th>hora_cometimento</th>\n",
              "      <th>auinf_local_rodovia</th>\n",
              "      <th>auinf_local_km</th>\n",
              "      <th>auinf_local_referencia</th>\n",
              "      <th>auinf_local_complemento</th>\n",
              "      <th>auinf_local_latitude</th>\n",
              "      <th>auinf_local_longitude</th>\n",
              "      <th>grav_tipo</th>\n",
              "    </tr>\n",
              "  </thead>\n",
              "  <tbody>\n",
              "    <tr>\n",
              "      <th>count</th>\n",
              "      <td>77348</td>\n",
              "      <td>77348</td>\n",
              "      <td>77348</td>\n",
              "      <td>77331</td>\n",
              "      <td>77348</td>\n",
              "      <td>77348</td>\n",
              "      <td>77342</td>\n",
              "      <td>13373</td>\n",
              "      <td>13148</td>\n",
              "      <td>3079</td>\n",
              "      <td>12221</td>\n",
              "      <td>12221</td>\n",
              "      <td>77348</td>\n",
              "    </tr>\n",
              "    <tr>\n",
              "      <th>unique</th>\n",
              "      <td>137</td>\n",
              "      <td>137</td>\n",
              "      <td>2</td>\n",
              "      <td>39</td>\n",
              "      <td>31</td>\n",
              "      <td>1440</td>\n",
              "      <td>348</td>\n",
              "      <td>130</td>\n",
              "      <td>34</td>\n",
              "      <td>225</td>\n",
              "      <td>10515</td>\n",
              "      <td>10537</td>\n",
              "      <td>4</td>\n",
              "    </tr>\n",
              "    <tr>\n",
              "      <th>top</th>\n",
              "      <td>7455-0</td>\n",
              "      <td>Transitar em velocidade superior à máxima perm...</td>\n",
              "      <td>Condutor</td>\n",
              "      <td>AUTOMOVEL</td>\n",
              "      <td>03/07/2020</td>\n",
              "      <td>12:40</td>\n",
              "      <td>DF-075 (EPNB) KM 7,6 SENTIDO R. FUNDO/SAMAMBAI...</td>\n",
              "      <td>69</td>\n",
              "      <td>Sentido Crescente</td>\n",
              "      <td>km 69</td>\n",
              "      <td>0.0</td>\n",
              "      <td>0.0</td>\n",
              "      <td>Média</td>\n",
              "    </tr>\n",
              "    <tr>\n",
              "      <th>freq</th>\n",
              "      <td>44594</td>\n",
              "      <td>44594</td>\n",
              "      <td>74486</td>\n",
              "      <td>40926</td>\n",
              "      <td>2943</td>\n",
              "      <td>132</td>\n",
              "      <td>6274</td>\n",
              "      <td>1928</td>\n",
              "      <td>6580</td>\n",
              "      <td>515</td>\n",
              "      <td>932</td>\n",
              "      <td>932</td>\n",
              "      <td>48184</td>\n",
              "    </tr>\n",
              "  </tbody>\n",
              "</table>\n",
              "</div>"
            ],
            "text/plain": [
              "       tipo_infracao  ... grav_tipo\n",
              "count          77348  ...     77348\n",
              "unique           137  ...         4\n",
              "top           7455-0  ...     Média\n",
              "freq           44594  ...     48184\n",
              "\n",
              "[4 rows x 13 columns]"
            ]
          },
          "metadata": {
            "tags": []
          },
          "execution_count": 3
        }
      ]
    },
    {
      "cell_type": "code",
      "metadata": {
        "colab": {
          "base_uri": "https://localhost:8080/"
        },
        "id": "owhp8x4XNUNB",
        "outputId": "789faa7f-9d8f-496f-969a-27c6e897f9f3"
      },
      "source": [
        "\n",
        "df.shape"
      ],
      "execution_count": 4,
      "outputs": [
        {
          "output_type": "execute_result",
          "data": {
            "text/plain": [
              "(77348, 13)"
            ]
          },
          "metadata": {
            "tags": []
          },
          "execution_count": 4
        }
      ]
    },
    {
      "cell_type": "markdown",
      "metadata": {
        "id": "6FyTNtPWL7tq"
      },
      "source": [
        "# 1 - Total de infracoes por tipo de infracao"
      ]
    },
    {
      "cell_type": "code",
      "metadata": {
        "colab": {
          "base_uri": "https://localhost:8080/"
        },
        "id": "SGR-Qq52MB6h",
        "outputId": "d20c97c9-f49d-47c0-8a33-7531ba6d74d0"
      },
      "source": [
        "# count total infracoes por tipo de infracao\n",
        "df.groupby(\"grav_tipo\")[\"grav_tipo\"].count()"
      ],
      "execution_count": 5,
      "outputs": [
        {
          "output_type": "execute_result",
          "data": {
            "text/plain": [
              "grav_tipo\n",
              "Grave          8195\n",
              "Gravíssima     6254\n",
              "Leve          14715\n",
              "Média         48184\n",
              "Name: grav_tipo, dtype: int64"
            ]
          },
          "metadata": {
            "tags": []
          },
          "execution_count": 5
        }
      ]
    },
    {
      "cell_type": "markdown",
      "metadata": {
        "id": "uW8jPKI0MCJD"
      },
      "source": [
        "# 2 - Total de infracoes por dia"
      ]
    },
    {
      "cell_type": "code",
      "metadata": {
        "colab": {
          "base_uri": "https://localhost:8080/"
        },
        "id": "LEumIK8OMKY2",
        "outputId": "abade50c-fa5a-4528-cbea-3f927705889b"
      },
      "source": [
        "df.groupby(\"cometimento\")[\"cometimento\"].count()"
      ],
      "execution_count": 6,
      "outputs": [
        {
          "output_type": "execute_result",
          "data": {
            "text/plain": [
              "cometimento\n",
              "01/07/2020    2807\n",
              "02/07/2020    2849\n",
              "03/07/2020    2943\n",
              "04/07/2020    2111\n",
              "05/07/2020    1812\n",
              "06/07/2020    2376\n",
              "07/07/2020    2601\n",
              "08/07/2020    2588\n",
              "09/07/2020    2686\n",
              "10/07/2020    2786\n",
              "11/07/2020    1975\n",
              "12/07/2020    1889\n",
              "13/07/2020    2623\n",
              "14/07/2020    2587\n",
              "15/07/2020    2717\n",
              "16/07/2020    2678\n",
              "17/07/2020    2846\n",
              "18/07/2020    2156\n",
              "19/07/2020    1895\n",
              "20/07/2020    2543\n",
              "21/07/2020    2553\n",
              "22/07/2020    2752\n",
              "23/07/2020    2540\n",
              "24/07/2020    2753\n",
              "25/07/2020    2149\n",
              "26/07/2020    1818\n",
              "27/07/2020    2763\n",
              "28/07/2020    2413\n",
              "29/07/2020    2737\n",
              "30/07/2020    2670\n",
              "31/07/2020    2732\n",
              "Name: cometimento, dtype: int64"
            ]
          },
          "metadata": {
            "tags": []
          },
          "execution_count": 6
        }
      ]
    },
    {
      "cell_type": "markdown",
      "metadata": {
        "id": "1kxjbsfvMK6q"
      },
      "source": [
        "# 3 - Base possui valores faltantes"
      ]
    },
    {
      "cell_type": "code",
      "metadata": {
        "colab": {
          "base_uri": "https://localhost:8080/"
        },
        "id": "t92_xDUnMMh-",
        "outputId": "e9fa9428-b27a-46d5-fd1b-006c2775f04a"
      },
      "source": [
        "# sim, a base de dados possui valores faltantes\n",
        "df.isnull().sum()"
      ],
      "execution_count": 7,
      "outputs": [
        {
          "output_type": "execute_result",
          "data": {
            "text/plain": [
              "tipo_infracao                  0\n",
              "descricao                      0\n",
              "tipo_infrator                  0\n",
              "tipo_veiculo                  17\n",
              "cometimento                    0\n",
              "hora_cometimento               0\n",
              "auinf_local_rodovia            6\n",
              "auinf_local_km             63975\n",
              "auinf_local_referencia     64200\n",
              "auinf_local_complemento    74269\n",
              "auinf_local_latitude       65127\n",
              "auinf_local_longitude      65127\n",
              "grav_tipo                      0\n",
              "dtype: int64"
            ]
          },
          "metadata": {
            "tags": []
          },
          "execution_count": 7
        }
      ]
    },
    {
      "cell_type": "markdown",
      "metadata": {
        "id": "UBmuPNFdPNlJ"
      },
      "source": [
        "# como alternativa, podemos deletar os dados"
      ]
    },
    {
      "cell_type": "code",
      "metadata": {
        "id": "KqKYi5WrPQRJ"
      },
      "source": [
        "# remove all data missing\n",
        "df.dropna(subset=[\"tipo_veiculo\"], inplace=True)\n",
        "df.dropna(subset=[\"auinf_local_rodovia\"], inplace=True)\n",
        "df.dropna(subset=[\"auinf_local_km\"], inplace=True)\n",
        "df.dropna(subset=[\"auinf_local_referencia\"], inplace=True)\n",
        "df.dropna(subset=[\"auinf_local_complemento\"], inplace=True)\n",
        "df.dropna(subset=[\"auinf_local_latitude\"], inplace=True)\n",
        "df.dropna(subset=[\"auinf_local_longitude\"], inplace=True)"
      ],
      "execution_count": 8,
      "outputs": []
    },
    {
      "cell_type": "code",
      "metadata": {
        "colab": {
          "base_uri": "https://localhost:8080/"
        },
        "id": "l0kqFH6aPlHb",
        "outputId": "e452eaea-5f08-4abb-d6ea-647d16c88f57"
      },
      "source": [
        "# check again\n",
        "df.isnull().sum()"
      ],
      "execution_count": 9,
      "outputs": [
        {
          "output_type": "execute_result",
          "data": {
            "text/plain": [
              "tipo_infracao              0\n",
              "descricao                  0\n",
              "tipo_infrator              0\n",
              "tipo_veiculo               0\n",
              "cometimento                0\n",
              "hora_cometimento           0\n",
              "auinf_local_rodovia        0\n",
              "auinf_local_km             0\n",
              "auinf_local_referencia     0\n",
              "auinf_local_complemento    0\n",
              "auinf_local_latitude       0\n",
              "auinf_local_longitude      0\n",
              "grav_tipo                  0\n",
              "dtype: int64"
            ]
          },
          "metadata": {
            "tags": []
          },
          "execution_count": 9
        }
      ]
    },
    {
      "cell_type": "markdown",
      "metadata": {
        "id": "FgU6Y7wnQcGW"
      },
      "source": [
        "# export data analyzed\n"
      ]
    },
    {
      "cell_type": "code",
      "metadata": {
        "id": "fu6ZoOReQfRy"
      },
      "source": [
        "# export data\n",
        "df.to_excel(\"analysis.xlsx\", index=False)"
      ],
      "execution_count": 10,
      "outputs": []
    }
  ]
}